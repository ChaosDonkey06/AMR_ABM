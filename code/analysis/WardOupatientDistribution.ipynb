{
 "cells": [
  {
   "cell_type": "code",
   "execution_count": 1,
   "metadata": {},
   "outputs": [],
   "source": [
    "from scipy.stats import truncnorm\n",
    "import pandas as pd\n",
    "import numpy as np\n",
    "import itertools\n",
    "import datetime\n",
    "import tqdm\n",
    "import sys\n",
    "import os\n",
    "\n",
    "def flatten_list(list_array):\n",
    "    return list(itertools.chain(*list_array))\n",
    "\n",
    "sys.path.insert(0,\"../\")\n",
    "from global_config import config\n",
    "\n",
    "results_dir           = config.get_property('results_dir')\n",
    "data_dir              = config.get_property('data_dir')\n",
    "data_db_dir           = config.get_property('data_db_dir')\n",
    "feb_hosp_records_path = os.path.join(data_db_dir, 'long_files_8_25_2021')\n",
    "path_to_save          = os.path.join(results_dir, \"real_testing\", \"community\")\n",
    "\n",
    "# import plotting stuff\n",
    "from utils.plot_utils import *\n",
    "\n",
    "# import data loading stuff\n",
    "from utils.data_utils import load_movement_df"
   ]
  },
  {
   "cell_type": "code",
   "execution_count": 2,
   "metadata": {},
   "outputs": [],
   "source": [
    "def capitalize_string_df(df_cap, col_cap):\n",
    "    df_cap[col_cap] = df_cap[col_cap].map(lambda x: ' '.join([w.lower().capitalize() for w in str(x).split(' ')] ) )\n",
    "    return df_cap\n",
    "\n",
    "dates_columns = ['covid_visits_start_date', 'adt_event_time', 'adt_ed_admission', 'adt_inpatient', 'adt_discharge']\n",
    "\n",
    "#dates_columns = ['adt_event_time', 'adt_ed_admission', 'adt_inpatient', 'adt_discharge']\n",
    "adt_df                        = pd.read_csv( os.path.join(feb_hosp_records_path , 'adt_long2021-08-25.csv'))\n",
    "adt_df['adt_site_number_std'] = adt_df['adt_site_number_std'].replace({1: 'Columbia', 2:'Allen', 3:'Chony'})\n",
    "adt_df                        = adt_df.drop(columns=['Unnamed: 0']).set_index('mrn')\n",
    "adt_df[\"encounter_id\"]        = adt_df[\"encounter_id\"].map(lambda x: int(x))\n",
    "adt_df                        = adt_df.rename(columns={'adt_site_number_std': 'place', 'adt_site': 'building', 'adt_location':'ward', 'room_num': 'room'})\n",
    "adt_df                        = adt_df.rename(columns={'adt_event_time': 'date_event', 'adt_ed_admission': 'date_admission', 'adt_inpatient': 'date_inpatient', 'adt_discharge': 'date_discharge'})\n",
    "\n",
    "adt_df                        = capitalize_string_df(adt_df, 'place')\n",
    "adt_df                        = capitalize_string_df(adt_df, 'building')\n",
    "adt_df                        = capitalize_string_df(adt_df, 'ward')\n",
    "adt_df                        = capitalize_string_df(adt_df, 'room')\n",
    "\n",
    "adt_df                   = adt_df.dropna(subset=['date_admission'])\n",
    "\n",
    "# replace ill-dates (2026 -> 2021 and 2022 -> 2021)\n",
    "adt_df[\"date_admission\"] = adt_df[\"date_admission\"].map(lambda x: x.replace(\"2022\", \"2021\").replace(\"2026\", \"2021\"))\n",
    "adt_df[\"date_event\"]     = adt_df[\"date_event\"].map(lambda x:     x.replace(\"2022\", \"2021\").replace(\"2026\", \"2021\"))\n",
    "\n",
    "adt_df[\"date_event\"]     = pd.to_datetime( adt_df[\"date_event\"],     format='%Y-%m-%d' ).dt.normalize()\n",
    "adt_df[\"date_admission\"] = pd.to_datetime( adt_df[\"date_admission\"], format='%Y-%m-%d' ).dt.normalize()\n",
    "adt_df[\"date_inpatient\"] = pd.to_datetime( adt_df[\"date_inpatient\"], format='%Y-%m-%d' ).dt.normalize()\n",
    "adt_df[\"date_discharge\"] = pd.to_datetime( adt_df[\"date_discharge\"], format='%Y-%m-%d' ).dt.normalize()\n",
    "\n",
    "# drop unreal admissions\n",
    "adt_df                   = adt_df[adt_df.date_admission<pd.to_datetime(\"2021-08-25\")]\n",
    "\n",
    "# drop RoM column as we don't consider room as a scale.\n",
    "adt_df =  adt_df[adt_df[\"room\"]!='Pby Lab Outreach']\n",
    "adt_df = adt_df.drop(columns=['room'])\n"
   ]
  },
  {
   "cell_type": "code",
   "execution_count": 3,
   "metadata": {},
   "outputs": [
    {
     "data": {
      "text/html": [
       "<div>\n",
       "<style scoped>\n",
       "    .dataframe tbody tr th:only-of-type {\n",
       "        vertical-align: middle;\n",
       "    }\n",
       "\n",
       "    .dataframe tbody tr th {\n",
       "        vertical-align: top;\n",
       "    }\n",
       "\n",
       "    .dataframe thead th {\n",
       "        text-align: right;\n",
       "    }\n",
       "</style>\n",
       "<table border=\"1\" class=\"dataframe\">\n",
       "  <thead>\n",
       "    <tr style=\"text-align: right;\">\n",
       "      <th></th>\n",
       "      <th>ward_coded</th>\n",
       "    </tr>\n",
       "  </thead>\n",
       "  <tbody>\n",
       "    <tr>\n",
       "      <th>0</th>\n",
       "      <td>Columbia-Milstein Hospital-Mil 5 Garden South</td>\n",
       "    </tr>\n",
       "    <tr>\n",
       "      <th>1</th>\n",
       "      <td>Columbia-26 Indian Rock-Rkl 26indrk Proc Card Chv</td>\n",
       "    </tr>\n",
       "    <tr>\n",
       "      <th>2</th>\n",
       "      <td>Columbia-Presbyterian Hospital-Pby Lab Outreach</td>\n",
       "    </tr>\n",
       "    <tr>\n",
       "      <th>3</th>\n",
       "      <td>Columbia-Milstein Hospital-Pby Adult Emergency</td>\n",
       "    </tr>\n",
       "    <tr>\n",
       "      <th>4</th>\n",
       "      <td>Columbia-Presbyterian Hospital-Pby 14 Transpla...</td>\n",
       "    </tr>\n",
       "    <tr>\n",
       "      <th>...</th>\n",
       "      <td>...</td>\n",
       "    </tr>\n",
       "    <tr>\n",
       "      <th>491232</th>\n",
       "      <td>Columbia-Milstein Family Heart Ctr-Mil 7 Hudso...</td>\n",
       "    </tr>\n",
       "    <tr>\n",
       "      <th>505567</th>\n",
       "      <td>Chony-Mschony-Mil 4 Micu A</td>\n",
       "    </tr>\n",
       "    <tr>\n",
       "      <th>512958</th>\n",
       "      <td>Columbia-Harkness Pavilion-Mil 8 Hudson South</td>\n",
       "    </tr>\n",
       "    <tr>\n",
       "      <th>517591</th>\n",
       "      <td>Columbia-Milstein Hospital-Law 3s Intensive Ca...</td>\n",
       "    </tr>\n",
       "    <tr>\n",
       "      <th>517617</th>\n",
       "      <td>Chony-Mschony-Law 6 Nursery</td>\n",
       "    </tr>\n",
       "  </tbody>\n",
       "</table>\n",
       "<p>243 rows × 1 columns</p>\n",
       "</div>"
      ],
      "text/plain": [
       "                                               ward_coded\n",
       "0           Columbia-Milstein Hospital-Mil 5 Garden South\n",
       "1       Columbia-26 Indian Rock-Rkl 26indrk Proc Card Chv\n",
       "2         Columbia-Presbyterian Hospital-Pby Lab Outreach\n",
       "3          Columbia-Milstein Hospital-Pby Adult Emergency\n",
       "4       Columbia-Presbyterian Hospital-Pby 14 Transpla...\n",
       "...                                                   ...\n",
       "491232  Columbia-Milstein Family Heart Ctr-Mil 7 Hudso...\n",
       "505567                         Chony-Mschony-Mil 4 Micu A\n",
       "512958      Columbia-Harkness Pavilion-Mil 8 Hudson South\n",
       "517591  Columbia-Milstein Hospital-Law 3s Intensive Ca...\n",
       "517617                        Chony-Mschony-Law 6 Nursery\n",
       "\n",
       "[243 rows x 1 columns]"
      ]
     },
     "execution_count": 3,
     "metadata": {},
     "output_type": "execute_result"
    }
   ],
   "source": [
    "ward_adt_care_level_df               = adt_df[[\"building\", \"place\", \"ward\", \"adt_care_level\"]].reset_index().drop(columns=[\"mrn\"]).drop_duplicates()\n",
    "ward_adt_care_level_df[\"ward_coded\"] = ward_adt_care_level_df.apply(lambda x: x[\"place\"] + \"-\" + x[\"building\"] + \"-\" + x[\"ward\"], axis=1)\n",
    "wards_df                             = ward_adt_care_level_df[[\"ward_coded\"]].drop_duplicates()\n",
    "wards_df"
   ]
  },
  {
   "cell_type": "code",
   "execution_count": 4,
   "metadata": {},
   "outputs": [],
   "source": [
    "ward_adt_care_level_df[\"value\"] = 1\n",
    "\n",
    "wards_df                  = pd.pivot_table(ward_adt_care_level_df, values='value', index=['ward_coded'], columns=['adt_care_level'], aggfunc=np.sum, fill_value=0).reset_index()\n",
    "wards_outpatients_df      = wards_df[wards_df.Outpatient == 1]\n",
    "wards_outpatients_df      = wards_outpatients_df.set_index(\"ward_coded\")\n",
    "wards_only_outpatients_df = wards_outpatients_df.iloc[wards_outpatients_df.T.sum().values==1]\n"
   ]
  },
  {
   "cell_type": "code",
   "execution_count": 7,
   "metadata": {},
   "outputs": [
    {
     "name": "stdout",
     "output_type": "stream",
     "text": [
      "Outpatients proportion 43.210\n",
      "Only outpatients proportion 19.342\n",
      "Proportion of only outpatient in outpatients proportion 44.762\n"
     ]
    }
   ],
   "source": [
    "print( \"Outpatients proportion {:.3f}\".format(100 * len(wards_outpatients_df) / len(wards_df)) )\n",
    "print( \"Only outpatients proportion {:.3f}\".format(100 * len(wards_only_outpatients_df) / len(wards_df)) )\n",
    "print( \"Proportion of only outpatient in outpatients proportion {:.3f}\".format(100 * len(wards_only_outpatients_df) / len(wards_outpatients_df)) )\n",
    "\n"
   ]
  },
  {
   "cell_type": "code",
   "execution_count": null,
   "metadata": {},
   "outputs": [],
   "source": []
  }
 ],
 "metadata": {
  "kernelspec": {
   "display_name": "Python 3.8.2 ('base')",
   "language": "python",
   "name": "python3"
  },
  "language_info": {
   "codemirror_mode": {
    "name": "ipython",
    "version": 3
   },
   "file_extension": ".py",
   "mimetype": "text/x-python",
   "name": "python",
   "nbconvert_exporter": "python",
   "pygments_lexer": "ipython3",
   "version": "3.8.2"
  },
  "orig_nbformat": 4,
  "vscode": {
   "interpreter": {
    "hash": "574dadffd7a64c0fd8dffb1c55414219139ca02322c8f7cd93c896672936a7f7"
   }
  }
 },
 "nbformat": 4,
 "nbformat_minor": 2
}
