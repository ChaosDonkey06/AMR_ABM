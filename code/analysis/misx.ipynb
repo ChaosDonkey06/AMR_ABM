{
 "cells": [
  {
   "cell_type": "code",
   "execution_count": 1,
   "metadata": {},
   "outputs": [],
   "source": [
    "from scipy.stats import truncnorm\n",
    "import pandas as pd\n",
    "import numpy as np\n",
    "import itertools\n",
    "import datetime\n",
    "import tqdm\n",
    "import sys\n",
    "import os\n",
    "\n",
    "def flatten_list(list_array):\n",
    "    return list(itertools.chain(*list_array))\n",
    "\n",
    "sys.path.insert(0,\"../\")\n",
    "from global_config import config\n",
    "\n",
    "results_dir           = config.get_property('results_dir')\n",
    "data_dir              = config.get_property('data_dir')\n",
    "data_db_dir           = config.get_property('data_db_dir')\n",
    "feb_hosp_records_path = os.path.join(data_db_dir, 'long_files_8_25_2021')\n",
    "path_to_save          = os.path.join(results_dir, \"real_testing\", \"community\")\n"
   ]
  },
  {
   "cell_type": "code",
   "execution_count": 2,
   "metadata": {},
   "outputs": [
    {
     "name": "stderr",
     "output_type": "stream",
     "text": [
      "/var/folders/7p/jp6xqkvn5wb6ddl1fn0bhs980000gn/T/ipykernel_80486/1033347647.py:8: DtypeWarning: Columns (0,1,4,8) have mixed types.Specify dtype option on import or set low_memory=False.\n",
      "  movement_df, ward2cluster = load_movement_df(path_to_data, True) # movement data\n"
     ]
    }
   ],
   "source": [
    "from utils.data_utils import load_movement_df, ward2size\n",
    "from utils.plot_utils import *\n",
    "\n",
    "path_to_data = os.path.join('..', '..', 'data')\n",
    "\n",
    "# load scenarios for synthetic inferences\n",
    "scenarios_df              = pd.read_csv(os.path.join(path_to_data, 'scenarios.csv'))\n",
    "movement_df, ward2cluster = load_movement_df(path_to_data, True) # movement data\n",
    "ward2size                 = ward2size(movement_df)\n",
    "ward2size                 = {r.ward_id: r.num_patients for idx_r, r in ward2size.iterrows()}"
   ]
  },
  {
   "cell_type": "code",
   "execution_count": 3,
   "metadata": {},
   "outputs": [],
   "source": [
    "date_min         = pd.to_datetime(\"2020-02-01\")\n",
    "date_max         = pd.to_datetime(\"2021-02-28\")\n",
    "dates_simulation = pd.date_range(start=date_min, end=date_max)\n",
    "\n",
    "γ_prior  = [0.01, 0.9]\n",
    "β_prior  = [0.001, 0.05]\n",
    "\n",
    "param_prior_dict      = {}\n",
    "param_prior_dict[\"γ\"] = γ_prior\n",
    "param_prior_dict[\"β\"] = β_prior\n",
    "\n",
    "# Agent based model settings.\n",
    "abm_settings                     = {}\n",
    "abm_settings[\"num_patients\"]     = movement_df.mrn_id.unique().shape[0]\n",
    "abm_settings[\"num_wards\"]        = movement_df.ward_id.unique().shape[0]\n",
    "abm_settings[\"num_clusters\"]     = len(set(list(ward2cluster.values())))\n",
    "abm_settings[\"dates\"]            = dates_simulation\n",
    "abm_settings[\"num_ensembles\"]    = 300\n",
    "\n",
    "# Iterated filtering settings.\n",
    "if2_settings                     = {}\n",
    "if2_settings[\"num_params\"]       = len(param_prior_dict)\n",
    "if2_settings[\"num_observations\"] = len(set(list(ward2cluster.values())))\n",
    "if2_settings[\"lambda_inf\"]       = 1.01        # Inflation for the EAKF.\n",
    "if2_settings[\"num_iters_mif\"]    = 20          # Number of iterations.\n",
    "if2_settings[\"alpha_mif\"]        = 0.8         # Variance shrinking factor.\n",
    "if2_settings[\"type_cooling\"]     = \"geometric\" # Type of cooling.\n",
    "if2_settings[\"num_ensembles\"]    = 300\n",
    "if2_settings[\"oev_variance\"]     = 0.2\n"
   ]
  },
  {
   "cell_type": "code",
   "execution_count": 4,
   "metadata": {},
   "outputs": [],
   "source": [
    "from utils.iterated_filtering_utils import IF2_eakf_ABM\n",
    "from utils.model_utils import model_inference\n",
    "from utils.infer_utils import *\n",
    "\n",
    "def create_inference_dataframe(positive_sample, negative_sample):\n",
    "\n",
    "    obs_chunk_df         = pd.DataFrame(columns=[\"date\"] + [f\"pos_{idx_c}\" for idx_c in range(abm_settings[\"num_clusters\"])])\n",
    "    obs_chunk_df[\"date\"] = abm_settings[\"dates\"]\n",
    "\n",
    "    neg_chunk_df         = pd.DataFrame(columns=[\"date\"] + [f\"pos_{idx_c}\" for idx_c in range(abm_settings[\"num_clusters\"])])\n",
    "    neg_chunk_df[\"date\"] = abm_settings[\"dates\"]\n",
    "\n",
    "    for idx_c in range(abm_settings[\"num_clusters\"]):\n",
    "        obs_chunk_df[f\"pos_{idx_c}\"] = positive_sample[:, idx_c]\n",
    "        neg_chunk_df[f\"pos_{idx_c}\"] = negative_sample[:, idx_c]\n",
    "\n",
    "    # Resample every week\n",
    "    obs_w_chunk_df         = obs_chunk_df.set_index(\"date\").resample(\"W-Sun\").sum()\n",
    "    neg_w_chunk_df         = neg_chunk_df.set_index(\"date\").resample(\"W-Sun\").sum()\n",
    "\n",
    "    for idx_c in range(abm_settings[\"num_clusters\"]):\n",
    "        obs_w_chunk_df[f\"oev_{idx_c}\"]  = compute_oev(obs_w_chunk_df[f\"pos_{idx_c}\"] , var_obs=if2_settings[\"oev_variance\"] )\n",
    "        neg_w_chunk_df[f\"oev_{idx_c}\"]  = compute_oev(neg_w_chunk_df[f\"pos_{idx_c}\"] , var_obs=if2_settings[\"oev_variance\"] )\n",
    "\n",
    "    return obs_w_chunk_df, neg_w_chunk_df"
   ]
  },
  {
   "cell_type": "code",
   "execution_count": 5,
   "metadata": {},
   "outputs": [
    {
     "name": "stdout",
     "output_type": "stream",
     "text": [
      "Running MIF  \n",
      "\n"
     ]
    },
    {
     "name": "stderr",
     "output_type": "stream",
     "text": [
      "100%|██████████| 20/20 [3:45:52<00:00, 677.63s/it]  \n"
     ]
    },
    {
     "name": "stdout",
     "output_type": "stream",
     "text": [
      "Running MIF  \n",
      "\n"
     ]
    },
    {
     "name": "stderr",
     "output_type": "stream",
     "text": [
      "100%|██████████| 20/20 [3:46:18<00:00, 678.92s/it]  \n"
     ]
    },
    {
     "name": "stdout",
     "output_type": "stream",
     "text": [
      "Running MIF  \n",
      "\n"
     ]
    },
    {
     "name": "stderr",
     "output_type": "stream",
     "text": [
      "100%|██████████| 20/20 [5:50:15<00:00, 1050.79s/it]  \n"
     ]
    },
    {
     "name": "stdout",
     "output_type": "stream",
     "text": [
      "Running MIF  \n",
      "\n"
     ]
    },
    {
     "name": "stderr",
     "output_type": "stream",
     "text": [
      "100%|██████████| 20/20 [3:27:05<00:00, 621.27s/it]  \n"
     ]
    },
    {
     "name": "stdout",
     "output_type": "stream",
     "text": [
      "Running MIF  \n",
      "\n"
     ]
    },
    {
     "name": "stderr",
     "output_type": "stream",
     "text": [
      "100%|██████████| 20/20 [3:17:38<00:00, 592.95s/it]  \n"
     ]
    },
    {
     "name": "stdout",
     "output_type": "stream",
     "text": [
      "Running MIF  \n",
      "\n"
     ]
    },
    {
     "name": "stderr",
     "output_type": "stream",
     "text": [
      "100%|██████████| 20/20 [3:20:39<00:00, 601.98s/it]  \n"
     ]
    },
    {
     "name": "stdout",
     "output_type": "stream",
     "text": [
      "Running MIF  \n",
      "\n"
     ]
    },
    {
     "name": "stderr",
     "output_type": "stream",
     "text": [
      "100%|██████████| 20/20 [14:21:44<00:00, 2585.22s/it]  \n"
     ]
    },
    {
     "name": "stdout",
     "output_type": "stream",
     "text": [
      "Running MIF  \n",
      "\n"
     ]
    },
    {
     "name": "stderr",
     "output_type": "stream",
     "text": [
      "100%|██████████| 20/20 [20:36:55<00:00, 3710.75s/it]   \n"
     ]
    },
    {
     "name": "stdout",
     "output_type": "stream",
     "text": [
      "Running MIF  \n",
      "\n"
     ]
    },
    {
     "name": "stderr",
     "output_type": "stream",
     "text": [
      "100%|██████████| 20/20 [19:30:41<00:00, 3512.07s/it]   \n"
     ]
    },
    {
     "name": "stdout",
     "output_type": "stream",
     "text": [
      "Running MIF  \n",
      "\n"
     ]
    },
    {
     "name": "stderr",
     "output_type": "stream",
     "text": [
      "100%|██████████| 20/20 [48:59:22<00:00, 8818.11s/it]    \n"
     ]
    }
   ],
   "source": [
    "RUN_ID = 2\n",
    "ρ      = 6\n",
    "\n",
    "for idx_row, row in scenarios_df.iterrows():\n",
    "    θ      = {}\n",
    "    θ['γ'] = row['γ']\n",
    "    θ['β'] = row['β']\n",
    "    θ['ρ'] = ρ / 100\n",
    "\n",
    "    path_to_scenario    = os.path.join('..', '..', 'results', 'synthetic_inferences', f'ρ_{ρ}%', row.name_scenario)\n",
    "    name_sims_save      = f'inference_{RUN_ID}.npz'\n",
    "    path_save_inference = os.path.join(path_to_scenario, name_sims_save)\n",
    "\n",
    "    path_to_scenario = os.path.join('..', '..', 'results', 'synthetic_inferences', f'ρ_{ρ}%', row.name_scenario)\n",
    "    name_sims_save   = f\"simulation_infer.npz\"\n",
    "    sim_samples      = np.load(os.path.join(path_to_scenario, name_sims_save))\n",
    "\n",
    "    cluster_positive = sim_samples['cluster_positive'][:, :, sim_samples['idx_use']]\n",
    "    cluster_negative = sim_samples['cluster_negative'][:, :, sim_samples['idx_use']]\n",
    "\n",
    "    obs_w_chunk_df, neg_w_chunk_df = create_inference_dataframe(cluster_positive, cluster_negative)\n",
    "    model_use                      =  lambda p_state, γ_m, β_m, α_m, movement: model_inference(p_state, γ_m, β_m, α_m, movement, ward2size, ward2cluster, θ['ρ'])\n",
    "    obs_post_all_pos, obs_post_all_neg, para_post_all, param_iter, param_mean_iter = IF2_eakf_ABM(model_use, obs_w_chunk_df, neg_w_chunk_df, movement_df, param_prior_dict, if2_settings, abm_settings, perturb_time=True)\n",
    "\n",
    "    np.savez_compressed(path_save_inference,\n",
    "                        obs_posterior_pos  = obs_post_all_pos,\n",
    "                        obs_posterior_neg  = obs_post_all_neg,\n",
    "                        param_posterior    = para_post_all,\n",
    "                        param_post_iter    = param_iter,\n",
    "                        theta              = param_mean_iter)\n"
   ]
  },
  {
   "cell_type": "code",
   "execution_count": null,
   "metadata": {},
   "outputs": [],
   "source": []
  }
 ],
 "metadata": {
  "kernelspec": {
   "display_name": "Python 3.8.2 ('base')",
   "language": "python",
   "name": "python3"
  },
  "language_info": {
   "codemirror_mode": {
    "name": "ipython",
    "version": 3
   },
   "file_extension": ".py",
   "mimetype": "text/x-python",
   "name": "python",
   "nbconvert_exporter": "python",
   "pygments_lexer": "ipython3",
   "version": "3.8.2"
  },
  "orig_nbformat": 4,
  "vscode": {
   "interpreter": {
    "hash": "574dadffd7a64c0fd8dffb1c55414219139ca02322c8f7cd93c896672936a7f7"
   }
  }
 },
 "nbformat": 4,
 "nbformat_minor": 2
}
