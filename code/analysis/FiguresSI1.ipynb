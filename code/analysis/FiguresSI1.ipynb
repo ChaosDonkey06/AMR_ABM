{
 "cells": [
  {
   "cell_type": "code",
   "execution_count": 1,
   "metadata": {},
   "outputs": [],
   "source": [
    "from scipy.stats import truncnorm\n",
    "import pandas as pd\n",
    "import numpy as np\n",
    "import itertools\n",
    "import datetime\n",
    "import tqdm\n",
    "import sys\n",
    "import os\n",
    "\n",
    "def flatten_list(list_array):\n",
    "    return list(itertools.chain(*list_array))\n",
    "\n",
    "sys.path.insert(0,\"../\")\n",
    "from global_config import config\n",
    "\n",
    "results_dir           = config.get_property('results_dir')\n",
    "data_dir              = config.get_property('data_dir')\n",
    "data_db_dir           = config.get_property('data_db_dir')\n",
    "feb_hosp_records_path = os.path.join(data_db_dir, 'long_files_8_25_2021')\n",
    "path_to_save          = os.path.join(results_dir, \"real_testing\", \"community\")\n"
   ]
  },
  {
   "cell_type": "code",
   "execution_count": 2,
   "metadata": {},
   "outputs": [
    {
     "name": "stderr",
     "output_type": "stream",
     "text": [
      "/var/folders/7p/jp6xqkvn5wb6ddl1fn0bhs980000gn/T/ipykernel_87301/1033347647.py:8: DtypeWarning: Columns (0,1,4,8) have mixed types.Specify dtype option on import or set low_memory=False.\n",
      "  movement_df, ward2cluster = load_movement_df(path_to_data, True) # movement data\n"
     ]
    }
   ],
   "source": [
    "from utils.data_utils import load_movement_df, ward2size\n",
    "from utils.plot_utils import *\n",
    "\n",
    "path_to_data = os.path.join('..', '..', 'data')\n",
    "\n",
    "# load scenarios for synthetic inferences\n",
    "scenarios_df              = pd.read_csv(os.path.join(path_to_data, 'scenarios.csv'))\n",
    "movement_df, ward2cluster = load_movement_df(path_to_data, True) # movement data\n",
    "ward2size                 = ward2size(movement_df)\n",
    "ward2size                 = {r.ward_id: r.num_patients for idx_r, r in ward2size.iterrows()}"
   ]
  },
  {
   "cell_type": "code",
   "execution_count": 3,
   "metadata": {},
   "outputs": [],
   "source": [
    "\n",
    "admissions_df = movement_df.copy().reset_index(); admissions_df = admissions_df[admissions_df.first_day==1].rename(columns={\"first_day\": \"num_admissions\"})\n",
    "admissions_df = admissions_df.groupby([\"ward_id\", \"date\"]).sum()[[\"num_admissions\"]]#.unstack([0]).sum().stack().reset_index()\n",
    "admissions_df = admissions_df.reset_index()\n",
    "admissions_df[\"day_of_week\"] = admissions_df.date.dt.dayofweek\n",
    "\n",
    "dayofweek2day                     = {0: \"Monday\", 1: \"Tuesday\", 2:\"Wednesday\", 3: \"Thursday\", 4: \"Friday\", 5: \"Saturday\", 6: \"Sunday\"}\n",
    "admissions_week_df                = admissions_df.groupby(\"date\").sum().reset_index(); admissions_week_df[\"day_of_week\"] = admissions_week_df.date.dt.dayofweek\n",
    "admissions_week_df[\"day_of_week\"] = admissions_week_df[\"day_of_week\"].replace(dayofweek2day)\n",
    "\n",
    "ward_size_df = movement_df.copy().reset_index()\n",
    "ward_size_df[\"num_patients\"]= 1\n",
    "ward_size_df = ward_size_df.groupby([\"date\", \"ward_id\"]).sum()[[\"num_patients\"]].unstack([-1]).resample(\"1D\").sum().stack().reset_index()\n",
    "ward_size_df[\"date_map\"] = ward_size_df[\"date\"].map(lambda x: x.strftime('%d-%b'))\n"
   ]
  },
  {
   "cell_type": "code",
   "execution_count": 4,
   "metadata": {},
   "outputs": [
    {
     "name": "stderr",
     "output_type": "stream",
     "text": [
      "/var/folders/7p/jp6xqkvn5wb6ddl1fn0bhs980000gn/T/ipykernel_87301/2686661058.py:49: UserWarning: FixedFormatter should only be used together with FixedLocator\n",
      "  cb.set_ticklabels(ticksss)\n"
     ]
    }
   ],
   "source": [
    "import seaborn as sns\n",
    "\n",
    "all_ward_info_df = pd.merge(left=ward_size_df, right=admissions_df, how=\"inner\")[[\"date\", \"ward_id\", \"num_patients\", \"num_admissions\"]]\n",
    "all_ward_info_df[\"ward_size\"] = all_ward_info_df[\"ward_id\"].map(ward2size)\n",
    "\n",
    "all_ward_info_df[\"date_num\"] = all_ward_info_df[\"date\"].dt.strftime(\"%Y%m%d\").astype(int)\n",
    "top_10_big = np.flip(np.sort(all_ward_info_df.ward_size.unique()))\n",
    "\n",
    "fig_dims = figure_size_setting(1800); fig_dims = [fig_dims[0], fig_dims[1]*1]\n",
    "\n",
    "fig, axes = plt.subplots(4, 4, figsize=fig_dims)\n",
    "\n",
    "PALETTE = \"magma\"#sns.light_palette(\"seagreen\", as_cmap=True)\n",
    "\n",
    "for idx_ward, ax in enumerate(axes.flatten()):\n",
    "\n",
    "    sns.scatterplot(ax=ax, data=all_ward_info_df[all_ward_info_df.ward_size==top_10_big[idx_ward]], x =\"num_admissions\", y=\"num_patients\", hue=\"date\", palette=PALETTE, sizes=(10, 100), edgecolor=\"w\")\n",
    "    line_slope = sns.regplot(ax=ax, x=\"num_admissions\", y=\"num_patients\", data=all_ward_info_df[all_ward_info_df.ward_size==top_10_big[idx_ward]], scatter_kws={\"s\": 0}, ci=None, color=\"k\")\n",
    "    #ax.plot(range(10, 800), range(10, 800), lw=2, c=\"k\", alpha=0.7)\n",
    "\n",
    "    xlimsss = ax.get_xlim(); ylimsss = ax.get_ylim()\n",
    "\n",
    "    ax.text(xlimsss[0]+(xlimsss[1]-xlimsss[0])/14, ylimsss[1]-(ylimsss[1]-ylimsss[0])/6, r\"$N_{{w_i}}=${:.0f}\".format(int(top_10_big[idx_ward])))\n",
    "    ax.legend().remove()\n",
    "    ax.set_ylabel(None)\n",
    "    ax.set_xlabel(None)\n",
    "\n",
    "    ax.spines['right'].set_visible(False)\n",
    "    ax.spines['top'].set_visible(False)\n",
    "    #ax.set_yscale(\"log\")\n",
    "    #ax.set_xscale(\"log\")\n",
    "\n",
    "axes[0,0].set_ylabel(r\"$N_h^{w_i}(t)$\")\n",
    "axes[1,0].set_ylabel(r\"$N_h^{w_i}(t)$\")\n",
    "axes[2,0].set_ylabel(r\"$N_h^{w_i}(t)$\")\n",
    "axes[3,0].set_ylabel(r\"$N_h^{w_i}(t)$\")\n",
    "\n",
    "axes[3, 0].set_xlabel(r\"$N_a^{w_i}(t)$\")\n",
    "axes[3, 1].set_xlabel(r\"$N_a^{w_i}(t)$\")\n",
    "axes[3, 2].set_xlabel(r\"$N_a^{w_i}(t)$\")\n",
    "axes[3, 3].set_xlabel(r\"$N_a^{w_i}(t)$\")\n",
    "\n",
    "norm = plt.Normalize(min(all_ward_info_df.date.unique()), max(all_ward_info_df.date.unique()))\n",
    "sm   = plt.cm.ScalarMappable(cmap=PALETTE, norm=norm)\n",
    "sm.set_array([])\n",
    "\n",
    "cb      = fig.colorbar(sm, ax = axes[:,-1])\n",
    "ticksss = [t.strftime(\"%Y-%b\") for t in pd.to_datetime(cb.get_ticks())]\n",
    "cb.set_ticklabels(ticksss)\n",
    "\n",
    "#axes[0,0].legend(title=\"Date\", loc=\"lower right\", ncol=5, bbox_to_anchor=(3.5, 1.2))\n",
    "#plt.tight_layout()\n",
    "\n",
    "#path_to_save  = os.path.join(path_to_ms_figs, \"admission_in_hospital_patients_per_ward.png\")\n",
    "#fig.savefig(path_to_save, dpi=300, transparent=True)\n"
   ]
  },
  {
   "cell_type": "code",
   "execution_count": null,
   "metadata": {},
   "outputs": [],
   "source": []
  }
 ],
 "metadata": {
  "kernelspec": {
   "display_name": "Python 3.8.2 ('base')",
   "language": "python",
   "name": "python3"
  },
  "language_info": {
   "codemirror_mode": {
    "name": "ipython",
    "version": 3
   },
   "file_extension": ".py",
   "mimetype": "text/x-python",
   "name": "python",
   "nbconvert_exporter": "python",
   "pygments_lexer": "ipython3",
   "version": "3.8.2"
  },
  "orig_nbformat": 4,
  "vscode": {
   "interpreter": {
    "hash": "574dadffd7a64c0fd8dffb1c55414219139ca02322c8f7cd93c896672936a7f7"
   }
  }
 },
 "nbformat": 4,
 "nbformat_minor": 2
}
