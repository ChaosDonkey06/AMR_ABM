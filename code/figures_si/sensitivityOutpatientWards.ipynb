{
 "cells": [
  {
   "cell_type": "code",
   "execution_count": 1,
   "metadata": {},
   "outputs": [],
   "source": [
    "from scipy.stats import truncnorm\n",
    "import pandas as pd\n",
    "import numpy as np\n",
    "import itertools\n",
    "import datetime\n",
    "import tqdm\n",
    "import sys\n",
    "import os\n",
    "\n",
    "def flatten_list(list_array):\n",
    "    return list(itertools.chain(*list_array))\n",
    "\n",
    "sys.path.insert(0,\"../\")\n",
    "from global_config import config\n",
    "\n",
    "results_dir           = config.get_property('results_dir')\n",
    "data_dir              = config.get_property('data_dir')\n",
    "paper_dir             = config.get_property('paper_dir')\n",
    "data_db_dir           = config.get_property('data_db_dir')\n",
    "feb_hosp_records_path = os.path.join(data_db_dir, 'long_files_8_25_2021')\n",
    "path_to_save          = os.path.join(results_dir, \"real_testing\", \"community\")\n",
    "\n",
    "# import plotting stuff\n",
    "from utils.plot_utils import *\n",
    "\n",
    "# import data loading stuff\n",
    "from utils.data_utils import load_movement_df\n",
    "\n",
    "\n",
    "path_to_data = os.path.join('..', '..', 'data')\n",
    "# load scenarios for synthetic inferences\n",
    "scenarios_df = pd.read_csv(os.path.join(path_to_data, 'scenarios.csv'))\n"
   ]
  },
  {
   "cell_type": "code",
   "execution_count": 2,
   "metadata": {},
   "outputs": [],
   "source": [
    "path_to_save = os.path.join(results_dir, \"real_testing\", \"amro_observations\")"
   ]
  },
  {
   "cell_type": "code",
   "execution_count": 7,
   "metadata": {},
   "outputs": [
    {
     "data": {
      "text/plain": [
       "['.DS_Store', 'All']"
      ]
     },
     "execution_count": 7,
     "metadata": {},
     "output_type": "execute_result"
    }
   ],
   "source": [
    "os.listdir()"
   ]
  },
  {
   "cell_type": "code",
   "execution_count": 19,
   "metadata": {},
   "outputs": [
    {
     "ename": "FileNotFoundError",
     "evalue": "[Errno 2] No such file or directory: '/Users/chaosdonkey06/Dropbox/shaman-lab/amr-hospitals/results/real_testing/amro_observations/scenarios_paper_rho_negatives_SEQ/WithoutOutpatients/All/candida_albicans/weekly_samples_0.npz'",
     "output_type": "error",
     "traceback": [
      "\u001b[0;31m---------------------------------------------------------------------------\u001b[0m",
      "\u001b[0;31mFileNotFoundError\u001b[0m                         Traceback (most recent call last)",
      "\u001b[0;32m<ipython-input-19-2df8c94c315c>\u001b[0m in \u001b[0;36m<module>\u001b[0;34m\u001b[0m\n\u001b[1;32m     26\u001b[0m     \u001b[0;31m#specimen         = specimens_inference[0]\u001b[0m\u001b[0;34m\u001b[0m\u001b[0;34m\u001b[0m\u001b[0;34m\u001b[0m\u001b[0m\n\u001b[1;32m     27\u001b[0m     \u001b[0mpath_to_save_pid\u001b[0m \u001b[0;34m=\u001b[0m \u001b[0mos\u001b[0m\u001b[0;34m.\u001b[0m\u001b[0mpath\u001b[0m\u001b[0;34m.\u001b[0m\u001b[0mjoin\u001b[0m\u001b[0;34m(\u001b[0m\u001b[0mpath_to_save\u001b[0m\u001b[0;34m,\u001b[0m \u001b[0;34m\"scenarios_paper_rho_negatives_SEQ\"\u001b[0m\u001b[0;34m,\u001b[0m \u001b[0;34m\"WithoutOutpatients\"\u001b[0m\u001b[0;34m,\u001b[0m \u001b[0;34m\"All\"\u001b[0m\u001b[0;34m,\u001b[0m \u001b[0;34m'_'\u001b[0m\u001b[0;34m.\u001b[0m\u001b[0mjoin\u001b[0m\u001b[0;34m(\u001b[0m \u001b[0mspecimen\u001b[0m\u001b[0;34m.\u001b[0m\u001b[0mlower\u001b[0m\u001b[0;34m(\u001b[0m\u001b[0;34m)\u001b[0m\u001b[0;34m.\u001b[0m\u001b[0msplit\u001b[0m\u001b[0;34m(\u001b[0m\u001b[0;34m)\u001b[0m\u001b[0;34m)\u001b[0m \u001b[0;34m)\u001b[0m\u001b[0;34m\u001b[0m\u001b[0;34m\u001b[0m\u001b[0m\n\u001b[0;32m---> 28\u001b[0;31m     \u001b[0mposterior\u001b[0m        \u001b[0;34m=\u001b[0m \u001b[0mnp\u001b[0m\u001b[0;34m.\u001b[0m\u001b[0mload\u001b[0m\u001b[0;34m(\u001b[0m\u001b[0mos\u001b[0m\u001b[0;34m.\u001b[0m\u001b[0mpath\u001b[0m\u001b[0;34m.\u001b[0m\u001b[0mjoin\u001b[0m\u001b[0;34m(\u001b[0m\u001b[0mpath_to_save_pid\u001b[0m\u001b[0;34m,\u001b[0m \u001b[0;34m'weekly_samples_0.npz'\u001b[0m\u001b[0;34m)\u001b[0m\u001b[0;34m)\u001b[0m\u001b[0;34m\u001b[0m\u001b[0;34m\u001b[0m\u001b[0m\n\u001b[0m\u001b[1;32m     29\u001b[0m     \u001b[0;31m# Posterior in last iteration\u001b[0m\u001b[0;34m\u001b[0m\u001b[0;34m\u001b[0m\u001b[0;34m\u001b[0m\u001b[0m\n\u001b[1;32m     30\u001b[0m     \u001b[0mparam_iter\u001b[0m       \u001b[0;34m=\u001b[0m \u001b[0mposterior\u001b[0m\u001b[0;34m[\u001b[0m\u001b[0;34m\"param_post_iter\"\u001b[0m\u001b[0;34m]\u001b[0m\u001b[0;34m[\u001b[0m\u001b[0;34m:\u001b[0m\u001b[0;34m,\u001b[0m\u001b[0;34m:\u001b[0m\u001b[0;34m,\u001b[0m\u001b[0;34m-\u001b[0m\u001b[0;36m1\u001b[0m\u001b[0;34m]\u001b[0m\u001b[0;34m\u001b[0m\u001b[0;34m\u001b[0m\u001b[0m\n",
      "\u001b[0;32m~/conda/lib/python3.8/site-packages/numpy/lib/npyio.py\u001b[0m in \u001b[0;36mload\u001b[0;34m(file, mmap_mode, allow_pickle, fix_imports, encoding)\u001b[0m\n\u001b[1;32m    414\u001b[0m             \u001b[0mown_fid\u001b[0m \u001b[0;34m=\u001b[0m \u001b[0;32mFalse\u001b[0m\u001b[0;34m\u001b[0m\u001b[0;34m\u001b[0m\u001b[0m\n\u001b[1;32m    415\u001b[0m         \u001b[0;32melse\u001b[0m\u001b[0;34m:\u001b[0m\u001b[0;34m\u001b[0m\u001b[0;34m\u001b[0m\u001b[0m\n\u001b[0;32m--> 416\u001b[0;31m             \u001b[0mfid\u001b[0m \u001b[0;34m=\u001b[0m \u001b[0mstack\u001b[0m\u001b[0;34m.\u001b[0m\u001b[0menter_context\u001b[0m\u001b[0;34m(\u001b[0m\u001b[0mopen\u001b[0m\u001b[0;34m(\u001b[0m\u001b[0mos_fspath\u001b[0m\u001b[0;34m(\u001b[0m\u001b[0mfile\u001b[0m\u001b[0;34m)\u001b[0m\u001b[0;34m,\u001b[0m \u001b[0;34m\"rb\"\u001b[0m\u001b[0;34m)\u001b[0m\u001b[0;34m)\u001b[0m\u001b[0;34m\u001b[0m\u001b[0;34m\u001b[0m\u001b[0m\n\u001b[0m\u001b[1;32m    417\u001b[0m             \u001b[0mown_fid\u001b[0m \u001b[0;34m=\u001b[0m \u001b[0;32mTrue\u001b[0m\u001b[0;34m\u001b[0m\u001b[0;34m\u001b[0m\u001b[0m\n\u001b[1;32m    418\u001b[0m \u001b[0;34m\u001b[0m\u001b[0m\n",
      "\u001b[0;31mFileNotFoundError\u001b[0m: [Errno 2] No such file or directory: '/Users/chaosdonkey06/Dropbox/shaman-lab/amr-hospitals/results/real_testing/amro_observations/scenarios_paper_rho_negatives_SEQ/WithoutOutpatients/All/candida_albicans/weekly_samples_0.npz'"
     ]
    }
   ],
   "source": [
    "import seaborn as sns\n",
    "\n",
    "specimens_inference = [\"ESCHERICHIA COLI\", \"KLEBSIELLA PNEUMONIAE\", \"PSEUDOMONAS AERUGINOSA\", \"METHICILLIN-SUSCEPTIBLE STAPHYLOCOCCUS AUREUS\",\n",
    "                            \"STAPHYLOCOCCUS EPIDERMIDIS\", \"CANDIDA ALBICANS\", \"METHICILLIN-RESISTANT STAPHYLOCOCCUS AUREUS\", \"ENTEROCOCCUS FAECALIS\"]\n",
    "\n",
    "sites_inference     = ['Urine', 'Blood', 'Other', 'Respiratory', 'CSF']\n",
    "\n",
    "posterior_df = []\n",
    "for specimen in specimens_inference:\n",
    "    #specimen         = specimens_inference[0]\n",
    "    path_to_save_pid = os.path.join(path_to_save, \"cluster_level_corrected\", '_'.join( specimen.lower().split()) )\n",
    "    posterior        = np.load(os.path.join(path_to_save_pid, 'weekly_samples.npz'))\n",
    "    # Posterior in last iteration\n",
    "    param_iter       = posterior[\"param_post_iter\"][:,:,-1]\n",
    "\n",
    "    p_df              = pd.DataFrame(columns=[\"gamma\", \"beta\", \"amro\"])\n",
    "    p_df[\"gamma\"]     = param_iter[0,:]\n",
    "    p_df[\"beta\"]      = param_iter[1,:]\n",
    "    p_df[\"amro\"]      = specimen\n",
    "    p_df[\"site_out\"]  = \"All\"\n",
    "\n",
    "    posterior_df.append(p_df)\n",
    "\n",
    "## POSTERIOR ESTIMATES WITHOUT OUTPATIENTS\n",
    "for specimen in specimens_inference:\n",
    "    #specimen         = specimens_inference[0]\n",
    "    path_to_save_pid = os.path.join(path_to_save, \"scenarios_paper_rho_negatives_SEQ\", \"WithoutOutpatients\", \"All\", '_'.join( specimen.lower().split()) )\n",
    "    posterior        = np.load(os.path.join(path_to_save_pid, 'weekly_samples_0.npz'))\n",
    "    # Posterior in last iteration\n",
    "    param_iter       = posterior[\"param_post_iter\"][:,:,-1]\n",
    "\n",
    "    p_df              = pd.DataFrame(columns=[\"gamma\", \"beta\", \"amro\"])\n",
    "    p_df[\"gamma\"]     = param_iter[0,:]\n",
    "    p_df[\"beta\"]      = param_iter[1,:]\n",
    "    p_df[\"amro\"]      = specimen\n",
    "    p_df[\"site_out\"]  = \"Without outpatient wards\"\n",
    "\n",
    "    posterior_df.append(p_df)\n",
    "\n",
    "posterior_df = pd.concat(posterior_df, ignore_index=True)"
   ]
  },
  {
   "cell_type": "code",
   "execution_count": 21,
   "metadata": {},
   "outputs": [
    {
     "data": {
      "text/plain": [
       "['escherichia_coli',\n",
       " '.DS_Store',\n",
       " 'methicillin-susceptible_staphylococcus_aureus',\n",
       " 'staphylococcus_epidermidis',\n",
       " 'pseudomonas_aeruginosa',\n",
       " 'klebsiella_pneumoniae',\n",
       " 'candida_albicans']"
      ]
     },
     "execution_count": 21,
     "metadata": {},
     "output_type": "execute_result"
    }
   ],
   "source": [
    "os.listdir(os.path.join(path_to_save, \"scenarios_paper_rho_negatives_SEQ\", \"WithoutOutpatients\", \"All\"))"
   ]
  },
  {
   "cell_type": "code",
   "execution_count": null,
   "metadata": {},
   "outputs": [],
   "source": []
  }
 ],
 "metadata": {
  "kernelspec": {
   "display_name": "Python 3.8.3 ('base')",
   "language": "python",
   "name": "python3"
  },
  "language_info": {
   "codemirror_mode": {
    "name": "ipython",
    "version": 3
   },
   "file_extension": ".py",
   "mimetype": "text/x-python",
   "name": "python",
   "nbconvert_exporter": "python",
   "pygments_lexer": "ipython3",
   "version": "3.8.3"
  },
  "orig_nbformat": 4,
  "vscode": {
   "interpreter": {
    "hash": "3bf8145230181c80995331dcd2d89ae11d44661bbc56f5633064428c02daedd7"
   }
  }
 },
 "nbformat": 4,
 "nbformat_minor": 2
}
