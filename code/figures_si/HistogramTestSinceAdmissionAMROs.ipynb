{
 "cells": [
  {
   "cell_type": "code",
   "execution_count": null,
   "metadata": {},
   "outputs": [],
   "source": [
    "from scipy.stats import truncnorm\n",
    "import pandas as pd\n",
    "import numpy as np\n",
    "import itertools\n",
    "import datetime\n",
    "import tqdm\n",
    "import sys\n",
    "import os\n",
    "import matplotlib.pyplot as plt\n",
    "\n",
    "\n",
    "def flatten_list(list_array):\n",
    "    return list(itertools.chain(*list_array))\n",
    "\n",
    "sys.path.insert(0,\"../\")\n",
    "\n",
    "from utils.plot_utils import *\n"
   ]
  },
  {
   "cell_type": "code",
   "execution_count": null,
   "metadata": {},
   "outputs": [],
   "source": [
    "from utils.data_utils import load_movement_df, ward2size\n",
    "\n",
    "#from utils.plot_utils import *\n",
    "\n",
    "path_to_data = os.path.join('..', '..', 'data')\n",
    "\n",
    "# load scenarios for synthetic inferences\n",
    "movement_df, ward2cluster = load_movement_df(path_to_data, True) # movement data\n",
    "movement_df.index.name    = \"date\"\n",
    "movement_df               = movement_df.reset_index()\n",
    "ward2size                 = ward2size(movement_df)\n",
    "ward2size                 = {r.ward_id: r.num_patients for idx_r, r in ward2size.iterrows()}"
   ]
  },
  {
   "cell_type": "code",
   "execution_count": null,
   "metadata": {},
   "outputs": [],
   "source": [
    "df2     = movement_df.sort_values(['mrn_id','date'])\n",
    "df2     = df2.reset_index()\n",
    "cur_day = 0\n",
    "\n",
    "for i in range(0, df2.shape[0]) :\n",
    "    first = df2.iloc[i].first_day\n",
    "    if(first == True) :\n",
    "        cur_day = 0\n",
    "    cur_day += 1\n",
    "    df2.at[i,'day'] = cur_day\n"
   ]
  },
  {
   "cell_type": "code",
   "execution_count": null,
   "metadata": {},
   "outputs": [],
   "source": [
    "specimens_inference  = [\"ESCHERICHIA COLI\", \"KLEBSIELLA PNEUMONIAE\", \"PSEUDOMONAS AERUGINOSA\", \"METHICILLIN-SUSCEPTIBLE STAPHYLOCOCCUS AUREUS\",\n",
    "                            \"STAPHYLOCOCCUS EPIDERMIDIS\", \"CANDIDA ALBICANS\", \"METHICILLIN-RESISTANT STAPHYLOCOCCUS AUREUS\", \"ENTEROCOCCUS FAECALIS\"]\n",
    "\n",
    "test_df               = df2[df2.test==True]\n",
    "testSinceAdmission_df = (test_df.day.value_counts())\n",
    "\n"
   ]
  },
  {
   "cell_type": "code",
   "execution_count": null,
   "metadata": {},
   "outputs": [],
   "source": [
    "fig, ax = plt.subplots(figsize=(10.5, 7.2))\n",
    "\n",
    "ax.bar(x=testSinceAdmission_df.keys()[np.arange(90)], height=testSinceAdmission_df.values[np.arange(90)], edgecolor=\"k\", facecolor=\"lightskyblue\")\n",
    "ax.set_yscale(\"log\")\n",
    "ax.set_xscale(\"log\")\n",
    "ax.set_xlabel(\"Days since admission\")\n",
    "ax.set_ylabel(\"Number of cultures\")\n",
    "ax.spines['right'].set_visible(False)\n",
    "ax.spines['top'].set_visible(False)\n",
    "\n"
   ]
  },
  {
   "cell_type": "code",
   "execution_count": null,
   "metadata": {},
   "outputs": [],
   "source": [
    "test_df"
   ]
  },
  {
   "cell_type": "code",
   "execution_count": null,
   "metadata": {},
   "outputs": [],
   "source": [
    "\n",
    "amro = specimens_inference[0]\n",
    "\n",
    "fig, axs = plt.subplots()\n",
    "df4 = df3[df3.organism_name==organism]\n",
    "\n",
    "\n",
    "pos_org_tests_per_day_of_admission = df4.day.value_counts()\n",
    "pos_org_tests_per_day_of_admission = pos_org_tests_per_day_of_admission.sort_index()\n",
    "org_pos_ratio                      = pos_org_tests_per_day_of_admission.values[np.arange(20)]/tests_per_day_of_admission.values[np.arange(20)]\n",
    "\n",
    "axs.bar(x=np.arange(20)+1, height=org_pos_ratio[np.arange(20)])\n",
    "axs.set_title(organism)\n"
   ]
  }
 ],
 "metadata": {
  "kernelspec": {
   "display_name": "Python 3.8.2 ('base')",
   "language": "python",
   "name": "python3"
  },
  "language_info": {
   "codemirror_mode": {
    "name": "ipython",
    "version": 3
   },
   "file_extension": ".py",
   "mimetype": "text/x-python",
   "name": "python",
   "nbconvert_exporter": "python",
   "pygments_lexer": "ipython3",
   "version": "3.8.2"
  },
  "vscode": {
   "interpreter": {
    "hash": "574dadffd7a64c0fd8dffb1c55414219139ca02322c8f7cd93c896672936a7f7"
   }
  }
 },
 "nbformat": 4,
 "nbformat_minor": 2
}
